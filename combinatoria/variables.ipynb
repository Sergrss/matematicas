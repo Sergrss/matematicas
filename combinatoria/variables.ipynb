{
  "nbformat": 4,
  "nbformat_minor": 0,
  "metadata": {
    "colab": {
      "provenance": [],
      "collapsed_sections": [],
      "authorship_tag": "ABX9TyPd/UytcKFnRfXKfz/pRTVH",
      "include_colab_link": true
    },
    "kernelspec": {
      "name": "python3",
      "display_name": "Python 3"
    },
    "language_info": {
      "name": "python"
    }
  },
  "cells": [
    {
      "cell_type": "markdown",
      "metadata": {
        "id": "view-in-github",
        "colab_type": "text"
      },
      "source": [
        "<a href=\"https://colab.research.google.com/github/Sergrss/matematicas/blob/main/combinatoria/variables.ipynb\" target=\"_parent\"><img src=\"https://colab.research.google.com/assets/colab-badge.svg\" alt=\"Open In Colab\"/></a>"
      ]
    },
    {
      "cell_type": "markdown",
      "source": [
        "# Hola mundo\n",
        "## Comenzando con Python\n",
        "Vamos a programar el típico \"Hola mundo\" para comenzar con este lenguaje de programación.\n"
      ],
      "metadata": {
        "id": "gzGukqZHUfew"
      }
    },
    {
      "cell_type": "code",
      "source": [
        "print(\"Hola mundo\")"
      ],
      "metadata": {
        "colab": {
          "base_uri": "https://localhost:8080/"
        },
        "id": "ssvkgHSeVAYs",
        "outputId": "ad60b92e-a82f-4814-9b08-62f9438bd8d0"
      },
      "execution_count": null,
      "outputs": [
        {
          "output_type": "stream",
          "name": "stdout",
          "text": [
            "Hola mundo\n"
          ]
        }
      ]
    },
    {
      "cell_type": "markdown",
      "source": [
        "## Operaciones aritméticas básicas\n",
        "* Sumar\n",
        "* Restar\n",
        "* Multiplicar\n",
        "* Dividir\n",
        " - División\n",
        " - División entera\n",
        "* Resto (**módulo**)\n",
        "\n"
      ],
      "metadata": {
        "id": "m7zxZUdAVNeH"
      }
    },
    {
      "cell_type": "code",
      "source": [
        "# Operaciones básicas\n",
        "print(2+3)\n",
        "print(5-7)\n",
        "print(3*5)\n",
        "print(12/4)\n",
        "print(19/5)\n",
        "print(16//5)    # División entera\n",
        "print(19%5)     # Resto o módulo"
      ],
      "metadata": {
        "colab": {
          "base_uri": "https://localhost:8080/"
        },
        "id": "v-7AtElFWC-P",
        "outputId": "12839e20-d700-48f8-dbad-22d7d4b6d3c4"
      },
      "execution_count": null,
      "outputs": [
        {
          "output_type": "stream",
          "name": "stdout",
          "text": [
            "5\n",
            "-2\n",
            "15\n",
            "3.0\n",
            "3.8\n",
            "3\n",
            "4\n"
          ]
        }
      ]
    },
    {
      "cell_type": "markdown",
      "source": [
        "## Variables\n",
        "Podemos asignar valores a variables."
      ],
      "metadata": {
        "id": "innBc2zsXxVC"
      }
    },
    {
      "cell_type": "code",
      "source": [
        "x = 5\n",
        "y = 4\n",
        "z = x / y\n",
        "print(z)"
      ],
      "metadata": {
        "colab": {
          "base_uri": "https://localhost:8080/"
        },
        "id": "7Tn-CsF-X6bl",
        "outputId": "806c5b6b-6db3-42d1-9c33-8f877b093fc9"
      },
      "execution_count": null,
      "outputs": [
        {
          "output_type": "stream",
          "name": "stdout",
          "text": [
            "1.25\n"
          ]
        }
      ]
    },
    {
      "cell_type": "code",
      "source": [
        "# Variable de tipo alfanumérico (string)\n",
        "nombre = \"Ana\"\n",
        "apellido = \"Ruiz\"\n",
        "print(nombre,apellido)"
      ],
      "metadata": {
        "colab": {
          "base_uri": "https://localhost:8080/"
        },
        "id": "gUWjITwVcu08",
        "outputId": "df99f071-77dc-45e4-8913-19d8eedd399e"
      },
      "execution_count": null,
      "outputs": [
        {
          "output_type": "stream",
          "name": "stdout",
          "text": [
            "Ana Ruiz\n"
          ]
        }
      ]
    },
    {
      "cell_type": "code",
      "source": [
        "# Concatenar strings\n",
        "nombre = \"Ana\"\n",
        "apellido = \"Ruiz\"\n",
        "persona = nombre + \" \" + apellido\n",
        "print(persona)"
      ],
      "metadata": {
        "colab": {
          "base_uri": "https://localhost:8080/"
        },
        "id": "kyRC3GkadWTY",
        "outputId": "7758cfc6-2bfa-41cb-f5c5-b3e6bdac2f58"
      },
      "execution_count": null,
      "outputs": [
        {
          "output_type": "stream",
          "name": "stdout",
          "text": [
            "Ana Ruiz\n"
          ]
        }
      ]
    }
  ]
}