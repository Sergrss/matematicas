{
  "nbformat": 4,
  "nbformat_minor": 0,
  "metadata": {
    "colab": {
      "provenance": [],
      "authorship_tag": "ABX9TyP6BuDISCYuMQ6bRyVwAypo",
      "include_colab_link": true
    },
    "kernelspec": {
      "name": "python3",
      "display_name": "Python 3"
    },
    "language_info": {
      "name": "python"
    }
  },
  "cells": [
    {
      "cell_type": "markdown",
      "metadata": {
        "id": "view-in-github",
        "colab_type": "text"
      },
      "source": [
        "<a href=\"https://colab.research.google.com/github/Sergrss/matematicas/blob/main/Condicionales.ipynb\" target=\"_parent\"><img src=\"https://colab.research.google.com/assets/colab-badge.svg\" alt=\"Open In Colab\"/></a>"
      ]
    },
    {
      "cell_type": "markdown",
      "source": [
        "# CONDICIONALES `IF`\n",
        "Se analiza una condición sea verdadera o fala se actúa de una o de otra manera.\n"
      ],
      "metadata": {
        "id": "PZMvujFiw7sU"
      }
    },
    {
      "cell_type": "code",
      "source": [
        "edad = 12\n",
        "\n",
        "if edad >= 18:\n",
        "    print(\"Puede obetener el permiso de conducir clase B\")\n",
        "else:\n",
        "    print(\"Usted aún no tiene edad para obtener el permiso B\")\n",
        "\n",
        "print(\"Fin del programa\")\n",
        "  "
      ],
      "metadata": {
        "colab": {
          "base_uri": "https://localhost:8080/"
        },
        "id": "ZTV_-AmqxLuV",
        "outputId": "15a53465-4cd2-4df1-d57c-9e9143391399"
      },
      "execution_count": 4,
      "outputs": [
        {
          "output_type": "stream",
          "name": "stdout",
          "text": [
            "Usted aún no tiene edad para obtener el permiso B\n",
            "Fin del programa\n"
          ]
        }
      ]
    },
    {
      "cell_type": "markdown",
      "source": [
        "## Condicionales múltiples\n",
        "\n",
        "```python\n",
        "if <condición 1>:\n",
        "    <código>\n",
        "elif <condición 2>:\n",
        "    <código>\n",
        "elif <condición 3>:\n",
        "    <código>\n",
        "else:\n",
        "    <código>\n",
        "```"
      ],
      "metadata": {
        "id": "bpoRt9V8yiDV"
      }
    },
    {
      "cell_type": "code",
      "source": [
        "edad = 20\n",
        "if edad >= 18:\n",
        "    print('Eres mayor de edad.')\n",
        "elif edad >= 13:\n",
        "    print('Eres un adolescente.')\n",
        "else:\n",
        "    print('Eres un niño.')"
      ],
      "metadata": {
        "colab": {
          "base_uri": "https://localhost:8080/"
        },
        "id": "owkVqgZ5yu5f",
        "outputId": "389db112-1c4d-47fc-ff2b-39691c64c660"
      },
      "execution_count": 5,
      "outputs": [
        {
          "output_type": "stream",
          "name": "stdout",
          "text": [
            "Eres mayor de edad.\n"
          ]
        }
      ]
    },
    {
      "cell_type": "code",
      "source": [
        "ciudades =[\"Roma\", \"Londres\", \"París\", \"Madrid\", \"Berlín\"]\n",
        "city = \"Austin\"\n",
        "\n",
        "if city in ciudades:\n",
        "    print(f\"{city} si se encuentra en la lista de ciudades.\")\n",
        "else:\n",
        "    print(f'{city} no se encuentra en la lista de ciudades.')\n",
        "    "
      ],
      "metadata": {
        "id": "wuYnSeMcy5pE"
      },
      "execution_count": null,
      "outputs": []
    }
  ]
}