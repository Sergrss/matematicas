{
  "nbformat": 4,
  "nbformat_minor": 0,
  "metadata": {
    "colab": {
      "provenance": [],
      "include_colab_link": true
    },
    "kernelspec": {
      "name": "python3",
      "display_name": "Python 3"
    },
    "language_info": {
      "name": "python"
    }
  },
  "cells": [
    {
      "cell_type": "markdown",
      "metadata": {
        "id": "view-in-github",
        "colab_type": "text"
      },
      "source": [
        "<a href=\"https://colab.research.google.com/github/Sergrss/matematicas/blob/main/Pr%C3%A1cticas/Practica_algebra_SergioRios.ipynb\" target=\"_parent\"><img src=\"https://colab.research.google.com/assets/colab-badge.svg\" alt=\"Open In Colab\"/></a>"
      ]
    },
    {
      "cell_type": "markdown",
      "source": [
        "# Práctica 3. Álgebra\n",
        "* Para aprender sobre Python vea la playlist [Python para Matemáticas](https://www.youtube.com/playlist?list=PL8gpDXwO-9l4HkDJ9QhB4H-cOiT0BYGau)\n",
        "* Para obtener ideas y vídeos para la resolución de la práctica vea los archivos siguientes: [Ideas](https://github.com/financieras/math/tree/main/ideas)"
      ],
      "metadata": {
        "id": "b13aYMDxmd7v"
      }
    },
    {
      "cell_type": "markdown",
      "source": [
        "## Práctica 3.1\n",
        "**Determinante en Excel**  \n",
        "\n",
        "* Cree un fichero en Excel de nombre algebra.xlsm.\n",
        "* La extensión **xlsm** corresponde a los archivos de Excel habilitados para macros.\n",
        "* Utilice la Hoja 1 para hacer la Práctica 3.1.\n",
        "* Se pide:\n",
        " 1. Cree una matriz cuadrada de dimensión 5×5, formada por números aleatorios enteros entre -9 y +9.\n",
        " 2. Calcule el determinante de esta matriz\n",
        " 3. Cree un programa en **VBA** que busque una matriz de este tipo cuyo determinante sea cero.\n",
        " 4. Copie la matriz encontrada y péguela debajo con \"pegado especial valores\" para que no varíe su contenido al efectuar el recálculo manual de la hoja."
      ],
      "metadata": {
        "id": "XWa9IdzJmpbB"
      }
    },
    {
      "cell_type": "markdown",
      "source": [
        "## RESUELTO EN EXCEL\n"
      ],
      "metadata": {
        "id": "N4jnjOWgkRzK"
      }
    },
    {
      "cell_type": "markdown",
      "source": [
        "## Práctica 3.2\n",
        "**Matriz inversa en Excel**  \n",
        "\n",
        "* Use el mismo archivo de Excel con extensión **xlsm** del caso anterior. \n",
        "* Utilice la Hoja 2 para hacer la Práctica 3.2.\n",
        "* Se pide:\n",
        " 1. Crea la matriz $A$ que es una matriz cuadrada de dimensiones 5×5 usando números aleatorios enteros entre -9 y +9, excepto cero\n",
        " 2. Calcule su determinante\n",
        " 3. Calcule su transpuesta usando la función ```TRANSPONER```\n",
        " 4. Calcule su matriz inversa $A^{-1}$\n",
        " 5. Multiplique la matriz $A$ por su inversa $A^{-1}$ y compruebe que el producto es la matriz identidad.\n",
        " $$AA^{-1}=I$$"
      ],
      "metadata": {
        "id": "cP-ppBE1rzGW"
      }
    },
    {
      "cell_type": "markdown",
      "source": [
        "## RESUELTO EN EXCEL"
      ],
      "metadata": {
        "id": "_g0uzb9PkVga"
      }
    },
    {
      "cell_type": "markdown",
      "source": [
        "## Práctica 3.3\n",
        "**Resolución de sistemas lineales en Excel**  \n",
        "\n",
        "* Use el mismo archivo de Excel con extensión **xlsm** del caso anterior. \n",
        "* Utilice la Hoja 3 para hacer la Práctica 3.3.\n",
        "* Se pide:\n",
        " 1. Cree un sistema de 5 ecuaciones con 5 incógnitas con **solución única**.\n",
        " 2. Una de las ecuaciones será: $\\quad x_1+2x_2-x_3+x_4-3x_5=6$\n",
        " 3. Muestre las ecuaciones del sistema usando el [editor de ecuaciones](https://support.microsoft.com/es-es/office/editor-de-ecuaciones-6eac7d71-3c74-437b-80d3-c7dea24fdf3f) de Excel. $\\quad Ax=b$\n",
        " 4. Monte la matriz $A$ del sistema de ecuaciones y la matriz $b$ con los términos independientes. Muestre ambas matrices.\n",
        " 5. Calcule la matriz inversa $A^{-1}$\n",
        " 6. Resuelva el sistema lineal de ecuaciones con este método: $\\quad Ax=b \\quad \\Longrightarrow \\quad x=A^{-1}b$\n",
        " 7. Compruebe si el resultado obtenido es la solución del sistema de ecuaciones. Justifique esa comprobación."
      ],
      "metadata": {
        "id": "jJRClauctBdf"
      }
    },
    {
      "cell_type": "markdown",
      "source": [
        "## RESUELTO EN EXCEL"
      ],
      "metadata": {
        "id": "tPARmq4C7UYb"
      }
    },
    {
      "cell_type": "markdown",
      "source": [
        "## Práctica 3.4\n",
        "**Matriz inversa en Python**  \n",
        "\n",
        "Desarrolla un código en Python que al ejecutarse consiga los siguientes apartados.  \n",
        "1. Crea una matriz cuadrada de dimensiones 3×3 usando números aleatorios enteros entre -9 y +9, excepto cero\n",
        "2. Buscar un caso donde el determinante sea igual a 1\n",
        "3. Si el determinante es 1 imprime la matriz y su determinante\n",
        "4. Calcula e imprime su transpuesta\n",
        "5. Calcula e imprime su matriz inversa\n",
        "6. Multiplica la matriz creada por su inversa y comprueba que el producto es la matriz identidad.\n",
        "7. Calcula cuantos segundos ha tardado en realizarse el proceso."
      ],
      "metadata": {
        "id": "EMlUZC6Lqzfs"
      }
    },
    {
      "cell_type": "code",
      "source": [
        "from time import process_time\n",
        "\n",
        "t1 = process_time()\n",
        "\n",
        "import numpy as np\n",
        "\n",
        "n = 3   # Orden nxn de la matriz cuadrada\n",
        "\n",
        "from random import seed, choice, random\n",
        "seed()\n",
        "\n",
        "while True:\n",
        "    m = np.random.choice([x for x in list(range(-9,10)) if x != 0], size=(n,n))   # Números aleatorios enteros entre -9 y +9, excluyendo el 0\n",
        "    determ = np.linalg.det(m)\n",
        "    if determ == 1: # Determinante de la matriz a crear\n",
        "        print(m)\n",
        "        break\n",
        "\n",
        "print(f\"El determinante de la matriz es {determ}\")\n",
        "print()\n",
        "\n",
        "transpuesta = np.transpose(m) # Matriz Transpuesta\n",
        "print(f\"La matriz transpuesta es\")\n",
        "print(transpuesta)\n",
        "print()\n",
        "\n",
        "minv = np.linalg.inv(m) # Matriz inversa\n",
        "print(f\"La matriz inversa es\")\n",
        "print(minv.astype(int))\n",
        "print()\n",
        "\n",
        "print(\"El producto de la multiplicación de la matriz por su inversa es igual a la matriz identidad:\")\n",
        "print(m @ minv) # Multiplicación de la matriz por su inversa\n",
        "print()\n",
        "\n",
        "t2 = process_time()\n",
        "print(f\"Este proceso ha tardado {t2-t1} segundos.\") # Cálculo del tiempo del proceso"
      ],
      "metadata": {
        "id": "aAJPHOFsUJ90"
      },
      "execution_count": null,
      "outputs": []
    },
    {
      "cell_type": "markdown",
      "source": [
        "## Práctica 3.5\n",
        "**Resolución de sistemas lineales en Python**  \n",
        "\n",
        "1. Cree un sistema de 4 ecuaciones con 4 incógnitas con **solución única**.\n",
        "2. La solución del sistema es: $\\; \\begin{pmatrix}x_1, x_2, x_3, x_4\\end{pmatrix} = \\begin{pmatrix} 3, 4, 5, 2\\end{pmatrix}$  \n",
        "3. Una de las ecuaciones del sistema es: $\\enspace x_1+3x_2-x_3-2x_4=6$  \n",
        "4. El vector $b$ de términos independientes es: $\\enspace b=\\begin{pmatrix}6, 3, 5, 7\\end{pmatrix}$  \n",
        "5. Usando números aleatorios elija los coeficientes que faltan de la matriz $A$ del sistema de ecuaciones.\n",
        "  - Los coeficientes deben ser números enteros entre -5 y +5, excluido el cero.\n",
        "  - Imprima la matriz $A$.  \n",
        "6. Calcule e imprima el determinante de $A$.\n",
        "7. Calcule e imprima la matriz inversa $A^{-1}$  \n",
        "8. Resuelva el sistema lineal de ecuaciones con este método: $$Ax=b \\quad \\Longrightarrow \\quad x=A^{-1}b$$\n",
        "9. Compruebe que el resultado obtenido es la solución del sistema de ecuaciones.  \n",
        "10. Resuelva nuevamente el sistema de ecuaciones usando ```np.linalg.solve```."
      ],
      "metadata": {
        "id": "tQQS7GPXIdjH"
      }
    },
    {
      "cell_type": "code",
      "source": [
        "import numpy as np\n",
        "\n",
        "# Datos\n",
        "    \n",
        "v = np.array([3,4,5,2])                 \n",
        "b = np.array([6,3,5,7])                \n",
        "\n",
        "# Función que busca las filas de la matriz de coeficientes:\n",
        "    \n",
        "def busca(b):                           \n",
        "    while True:\n",
        "        w = np.random.choice([x for x in list(range(-5,6)) if x != 0], 4)\n",
        "        if np.matmul(v, w) == b:\n",
        "            break\n",
        "    return w\n",
        "\n",
        "while True:\n",
        "    # Calculo las filas de la matriz de coeficientes\n",
        "    \n",
        "    f1 = np.array([1,3,-1,-2])          \n",
        "    f2 = busca(3)                   \n",
        "    f3 = busca(5) \n",
        "    f4 = busca(7)\n",
        "    \n",
        "    #Genero la matriz de coeficientes a partir de dichas filas\n",
        "    \n",
        "    matriz = [f1, f2, f3, f4]\n",
        "    A = np.array(matriz)\n",
        "    \n",
        "    #Compruebo si la solución es única por el teorema de Rouché:\n",
        "    det = round(np.linalg.det(A),00)    \n",
        "    if det != 0:                      \n",
        "        break\n",
        "    else:\n",
        "        print(\"La solución no es única, volvemos a calcular A\")\n",
        "\n",
        "\n",
        "# Imprimo A y su determinante en pantalla\n",
        "\n",
        "print(\"A = \", A)                        \n",
        "print(\"\\n\")\n",
        "print(\"Det(A)= \", det)                 \n",
        "print(\"\\n\")\n",
        "Ai = np.linalg.inv(A)\n",
        "print(\"A^-1: \", Ai.round(3))            # Redondeando sus elementos a tres decimales\n",
        "print()\n",
        "\n",
        "#Calculo la solución del sistema\n",
        "\n",
        "x = np.dot(Ai, b)                      \n",
        "\n",
        "\n",
        "#Convierto ambas soluciones a float (con dos decimales) para poder compararlas\n",
        "\n",
        "v_float = [round(x,2) for x in v]\n",
        "x_float = [round(x,2) for x in x]\n",
        "\n",
        "if np.array_equal(x_float, v_float):\n",
        "    print(\"Funciona\")                    \n",
        "else:\n",
        "    print(\"No funciona\")\n",
        "\n",
        "\n",
        "#Recalculo la solución, esta vez utilizando np.linalg.solve\n",
        "\n",
        "x = np.linalg.solve(A,b)                \n",
        "\n",
        "#Vuelvo a comprobar si coinciden las soluciones\n",
        "\n",
        "x_float = [round(x,2) for x in x]\n",
        "\n",
        "if np.array_equal(x_float, v_float):\n",
        "    print(\"Funciona\")\n",
        "else:\n",
        "    print(\"No funciona\")"
      ],
      "metadata": {
        "id": "9GeaiXHouMj1"
      },
      "execution_count": null,
      "outputs": []
    },
    {
      "cell_type": "markdown",
      "source": [
        "## Práctica 3.6\n",
        "**Resolución de sistemas lineales con Octave**  \n",
        "\n",
        "1. Tome el mismo sistema 4x4 con solución única del ejercicio anterior.\n",
        "2. Muestra el sistema usando $\\LaTeX$\n",
        "3. Resuélvelo con Octave por dos métodos\n",
        "4. ¿Ambos métodos dan el mismo resultado?"
      ],
      "metadata": {
        "id": "M39ufifh_Jr8"
      }
    },
    {
      "cell_type": "markdown",
      "source": [
        "## Práctica 3.7\n",
        "**Diagonalización en Python**\n",
        "\n",
        "* Sea la matriz cuadrada $A$ de orden 4x4\n",
        "\n",
        "$$A=\\left(\n",
        "\\begin{array}{rrrr}\n",
        " -1 &-2 &  3 &-1 \\\\\n",
        "  0 & 2 &  0 & 0 \\\\\n",
        "  0 & 0 &  2 & 0 \\\\\n",
        "  0 & 0 &  0 & 1\n",
        "\\end{array}\n",
        "\\right)$$\n",
        "1. Calcula los **autovalores** y **autovectores**\n",
        "2. Calcula y muestra:\n",
        " - la matriz diagonal $D$\n",
        " - la matriz de paso $P$\n",
        " - su inversa $P^{-1}$  \n",
        "3. Comprueba que se cumple que $A^3=PD^3P^{-1}$"
      ],
      "metadata": {
        "id": "KOhR4DdkL7kg"
      }
    },
    {
      "cell_type": "code",
      "source": [
        "# Cálculo de Matriz diagonal, de paso y su inversa\n",
        "\n",
        "import numpy as np\n",
        "A = np.array([[-1,-2,3,-1], [0,2,0,0], [0,0,2,0], [0,0,0,1]])\n",
        "d,P = np.linalg.eig(A)\n",
        "print(\"d: \", d)\n",
        "print()\n",
        "\n",
        "D = np.diag(d)\n",
        "print(\"Su matriz diagonal:\")\n",
        "print(\"\\nD:\\n\", D)\n",
        "print()\n",
        "\n",
        "d,P = np.linalg.eig(A)\n",
        "D = np.diag(d)\n",
        "Pinv = np.linalg.inv(P)\n",
        "\n",
        "print(\"Su matriz de paso:\")\n",
        "print(\"\\nP:\\n\", P)\n",
        "print()\n",
        "\n",
        "print(\"Su matriz inversa:\")\n",
        "print(Pinv)\n",
        "print()\n",
        "\n",
        "A3 = A@A@A\n",
        "D3 = D@D@D\n",
        "PD3Pinv = P@D3@Pinv\n",
        "\n",
        "# Dejo esta parte del código (Comprueba que se cumple que  A3=PD3P−1) para entender por qué no funciona el \"if\".\n",
        "# if A3 == PD3Pinv:\n",
        "#    print(\"A3 == PD3Pinv\")\n",
        "# else:\n",
        "#    print(\"A3 no es igual a PD3Pinv\")"
      ],
      "metadata": {
        "id": "x6NQuEGJ3Z_R"
      },
      "execution_count": null,
      "outputs": []
    },
    {
      "cell_type": "markdown",
      "source": [
        "## Práctica 3.8\n",
        "**Diagonalización con Octave**\n",
        "\n",
        "Resuelva el ejercicio anterior, pero en esta ocasión utilizando Octave."
      ],
      "metadata": {
        "id": "tqHIq-of_N_v"
      }
    },
    {
      "cell_type": "code",
      "source": [
        "!apt update\n",
        "!apt install octave"
      ],
      "metadata": {
        "id": "ErrVj0bf8IrZ"
      },
      "execution_count": null,
      "outputs": []
    },
    {
      "cell_type": "code",
      "source": [
        "%%writefile diagonaliza.m \n",
        "A = [-1,-2,3,-1; 0,2,0,0; 0,0,2,0; 0,0,0,1] \n",
        "[P,D]=eig(A)\n",
        "Dcubo = D^3\n",
        "Acubo = A^3\n",
        "PxDcuboXPinv = P*Dcubo*P^-1"
      ],
      "metadata": {
        "id": "uN6HiBDo82Xg"
      },
      "execution_count": null,
      "outputs": []
    },
    {
      "cell_type": "code",
      "source": [
        "!octave diagonaliza.m   # Ejecuta el archivo"
      ],
      "metadata": {
        "id": "Dwau5zqI9r7S"
      },
      "execution_count": null,
      "outputs": []
    },
    {
      "cell_type": "markdown",
      "source": [
        "## Práctica 3.9\n",
        "**Libertad para elegir el lugar de trabajo**  \n",
        "Resolver con **Octave**.\n",
        "\n",
        "Una empresa de 1.000 empleados permite que sus trabajadores cada día acudan a trabajar a la oficina o que realicen su trabajo desde su casa. Inicialmente el 90% de la plantilla trabajaba en la oficina y solo el 10% lo hacían en casa. Se ha observado que los que un día trabajan en casa tienen una probabilidad del 70% de realizarlo también desde casa al día siguiente, pero que en el restante 30% de los casos acuden a la oficina al día siguiente. Por el contrario, se ha observado que los que un día trabajaron en la oficina al día siguiente vuelven\n",
        "a la oficina en el 60% de los casos y en el 40% restante van a su casa al día siguiente.\n",
        "* Determinar qué número de empleados se quedan en casa transcurridos dos días.\n",
        "* ¿Y a largo plazo cuantos se quedan en casa?"
      ],
      "metadata": {
        "id": "Aw283nkjdtcQ"
      }
    },
    {
      "cell_type": "code",
      "source": [
        "!apt update\n",
        "!apt install octave"
      ],
      "metadata": {
        "id": "944NFEzLB-a-"
      },
      "execution_count": null,
      "outputs": []
    },
    {
      "cell_type": "code",
      "source": [
        "%%writefile proceso.m\n",
        "empleados = 1000\n",
        "% state vector\n",
        "inicial = [.9; .1]\n",
        "% transition probability matrix\n",
        "A = [.6, .3; .4, .7]\n",
        "[P,D]=eig(A)\n",
        "Dcuadrado = D^2\n",
        "Acuadrado = A^2\n",
        "PxDcuadradoXPinv = P*Dcuadrado*P^-1\n",
        "dia2 = Acuadrado * inicial\n",
        "disp(\"Nº de empleados que se quedan en casa el segundo día: \"), disp(dia2(2)*empleados)\n",
        "D10 = D^10\n",
        "A10 = P*D10*P^-1\n",
        "dia10 = A10 * inicial\n",
        "disp(\"Nº de empleados que se quedan en casa a largo plazo son: \"), disp(dia10(2)*empleados)"
      ],
      "metadata": {
        "colab": {
          "base_uri": "https://localhost:8080/"
        },
        "id": "-uhI3rtnB_UK",
        "outputId": "bcf4ff17-ba33-46fc-fc9e-27593a3a99af"
      },
      "execution_count": null,
      "outputs": [
        {
          "output_type": "stream",
          "name": "stdout",
          "text": [
            "Writing proceso.m\n"
          ]
        }
      ]
    },
    {
      "cell_type": "code",
      "source": [
        "!octave proceso.m"
      ],
      "metadata": {
        "id": "9zAeFgQvC0CC"
      },
      "execution_count": null,
      "outputs": []
    },
    {
      "cell_type": "markdown",
      "source": [
        "## Práctica 3.10\n",
        "**Tendencia del mercado**  \n",
        "Resolver con **Python**.\n",
        "\n",
        "En el mercado de automóviles de gran lujo únicamente se disputan la clientela dos marcas (A y B). Las ventas son $M=100.000$ automóviles anuales, no variando esta cifra con el transcurso de los años. La marca A es líder de mercado en este momento con el 75% de las ventas. Sus directivos desean consolidar su liderazgo e incluso aumentarlo, para lo cual todos los años efectúan una fuerte campaña publicitaria con la que consiguen cada año un 40% de los que fueron clientes de su competidora, aunque la empresa A pierde un 20% de sus clientes que se van a la competencia.\n",
        "* ¿Cuál es la situación a los 3 años?\n",
        "* ¿Y al cabo de mucho tiempo? (10, 15 Y 20 AÑOS)"
      ],
      "metadata": {
        "id": "lllngWn__QP0"
      }
    },
    {
      "cell_type": "code",
      "source": [
        "import numpy as np\n",
        "\n",
        "X0 = np.array([.75, .25])\n",
        "A = np.array([[.8, .4], [.2 ,.6]])\n",
        "X3 = A@A@A@X0\n",
        "print(\"Situación a los tres años:\", X3) # 3 AÑOS\n",
        "\n",
        "d,P = np.linalg.eig(A)\n",
        "D = np.diag(d)\n",
        "Pinv = np.linalg.inv(P)\n",
        "A10 = P@(D**10)@Pinv\n",
        "X10 = A10@X0\n",
        "print(\"Situación a los diez años:\", X10) # 10 AÑOS\n",
        "print(\"Situación a los quince años:\", P@(D**15)@Pinv@X0) # 15 AÑOS\n",
        "print(\"Situación a los veinte años:\", P@(D**20)@Pinv@X0) # 20 AÑOS"
      ],
      "metadata": {
        "id": "ASrRErcqmsZm"
      },
      "execution_count": null,
      "outputs": []
    }
  ]
}